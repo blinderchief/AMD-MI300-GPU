{
 "cells": [
  {
   "cell_type": "code",
   "execution_count": 9,
   "id": "b1f7b4d7-b3a3-4a84-80d2-a41a12f35a18",
   "metadata": {},
   "outputs": [
    {
     "name": "stdout",
     "output_type": "stream",
     "text": [
      "{'Attendees': [{'email': 'userthree.amd@gmail.com', 'events': [{'Attendees': ['userthree.amd@gmail.com', 'userone.amd@gmail.com', 'usertwo.amd@gmail.com'], 'EndTime': '2025-07-21T10:30:00+05:30', 'NumAttendees': 3, 'StartTime': '2025-07-21T10:00:00+05:30', 'Summary': 'Client Feedback'}, {'Attendees': [], 'EndTime': '2025-07-23T07:30:00+05:30', 'NumAttendees': 0, 'StartTime': '2025-07-22T16:00:00+05:30', 'Summary': 'Off Hours'}, {'Attendees': ['userone.amd@gmail.com', 'userthree.amd@gmail.com', 'usertwo.amd@gmail.com', 'team@amd.com'], 'EndTime': '2025-07-23T08:00:00+05:30', 'NumAttendees': 4, 'StartTime': '2025-07-23T07:30:00+05:30', 'Summary': 'Client Feedback'}, {'Attendees': ['userone.amd@gmail.com', 'userthree.amd@gmail.com', 'usertwo.amd@gmail.com'], 'EndTime': '2025-07-23T09:30:00+05:30', 'NumAttendees': 3, 'StartTime': '2025-07-23T09:00:00+05:30', 'Summary': 'Agentic AI Project Status Update'}, {'Attendees': [], 'EndTime': '2025-07-24T07:30:00+05:30', 'NumAttendees': 0, 'StartTime': '2025-07-23T16:00:00+05:30', 'Summary': 'Off Hours'}]}, {'email': 'userone.amd@gmail.com', 'events': [{'Attendees': ['userthree.amd@gmail.com', 'userone.amd@gmail.com', 'usertwo.amd@gmail.com'], 'EndTime': '2025-07-21T10:30:00+05:30', 'NumAttendees': 3, 'StartTime': '2025-07-21T10:00:00+05:30', 'Summary': 'Client Feedback'}, {'Attendees': [], 'EndTime': '2025-07-23T09:00:00+05:30', 'NumAttendees': 0, 'StartTime': '2025-07-22T18:00:00+05:30', 'Summary': 'Off Hours'}, {'Attendees': ['userone.amd@gmail.com', 'userthree.amd@gmail.com', 'usertwo.amd@gmail.com', 'team@amd.com'], 'EndTime': '2025-07-23T08:00:00+05:30', 'NumAttendees': 4, 'StartTime': '2025-07-23T07:30:00+05:30', 'Summary': 'Client Feedback'}, {'Attendees': ['userone.amd@gmail.com', 'userthree.amd@gmail.com', 'usertwo.amd@gmail.com'], 'EndTime': '2025-07-23T09:30:00+05:30', 'NumAttendees': 3, 'StartTime': '2025-07-23T09:00:00+05:30', 'Summary': 'Agentic AI Project Status Update'}, {'Attendees': [], 'EndTime': '2025-07-24T09:00:00+05:30', 'NumAttendees': 0, 'StartTime': '2025-07-23T18:00:00+05:30', 'Summary': 'Off Hours'}]}, {'email': 'usertwo.amd@gmail.com', 'events': [{'Attendees': ['userthree.amd@gmail.com', 'userone.amd@gmail.com', 'usertwo.amd@gmail.com'], 'EndTime': '2025-07-21T10:30:00+05:30', 'NumAttendees': 3, 'StartTime': '2025-07-21T10:00:00+05:30', 'Summary': 'Client Feedback'}, {'Attendees': [], 'EndTime': '2025-07-23T09:00:00+05:30', 'NumAttendees': 0, 'StartTime': '2025-07-22T18:00:00+05:30', 'Summary': 'Off Hours'}, {'Attendees': ['userone.amd@gmail.com', 'userthree.amd@gmail.com', 'usertwo.amd@gmail.com'], 'EndTime': '2025-07-23T09:30:00+05:30', 'NumAttendees': 3, 'StartTime': '2025-07-23T09:00:00+05:30', 'Summary': 'Agentic AI Project Status Update'}, {'Attendees': [], 'EndTime': '2025-07-23T11:00:00+05:30', 'NumAttendees': 0, 'StartTime': '2025-07-23T10:00:00+05:30', 'Summary': 'Client Meeting - IMPORTANT'}, {'Attendees': [], 'EndTime': '2025-07-24T09:00:00+05:30', 'NumAttendees': 0, 'StartTime': '2025-07-23T18:00:00+05:30', 'Summary': 'Off Hours'}]}], 'Datetime': '19-07-2025T12:34:55', 'Duration_mins': '30', 'EmailContent': \"Hi Team. We’ve received the final feedback from the client. Let’s review it together and plan next steps. Let's meet on Wednesday at 10:00 A.M.\", 'EventEnd': '2025-07-21T10:30:00+05:30', 'EventStart': '2025-07-21T10:00:00+05:30', 'From': 'userone.amd@gmail.com', 'Location': 'IISc Bangalore', 'MetaData': {'resolution_action': 'reschedule_tomorrow', 'resolution_reason': 'All participants are busy with important meetings. Rescheduling to tomorrow.', 'scheduling_strategy': 'All busy - rescheduled to next day'}, 'Request_id': '6118b54f-907b-4451-8d48-dd13d76033d5', 'Subject': 'Client Feedback'}\n"
     ]
    }
   ],
   "source": [
    "import requests\n",
    "import json\n",
    "SERVER_URL = \"http://0.0.0.0\"\n",
    "INPUT_JSON_FILE = \"JSON_Samples/input_Request3.json\"\n",
    "with open(INPUT_JSON_FILE) as f:\n",
    "        input_json = json.load(f)\n",
    "response = requests.post(SERVER_URL+\":5000/receive\", json=input_json, timeout=10)\n",
    "print(response.json())"
   ]
  },
  {
   "cell_type": "code",
   "execution_count": null,
   "id": "7a052eeb-1013-4f24-b95f-d5ec6dd9a7ad",
   "metadata": {},
   "outputs": [],
   "source": []
  }
 ],
 "metadata": {
  "kernelspec": {
   "display_name": "Python 3 (ipykernel)",
   "language": "python",
   "name": "python3"
  },
  "language_info": {
   "codemirror_mode": {
    "name": "ipython",
    "version": 3
   },
   "file_extension": ".py",
   "mimetype": "text/x-python",
   "name": "python",
   "nbconvert_exporter": "python",
   "pygments_lexer": "ipython3",
   "version": "3.12.10"
  }
 },
 "nbformat": 4,
 "nbformat_minor": 5
}
